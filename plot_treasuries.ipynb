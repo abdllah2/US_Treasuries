{
 "cells": [
  {
   "cell_type": "code",
   "execution_count": 58,
   "metadata": {},
   "outputs": [],
   "source": [
    "import pandas as pd\n",
    "from  bs4 import BeautifulSoup\n",
    "import matplotlib.pyplot as plt\n",
    "import urllib.request"
   ]
  },
  {
   "cell_type": "code",
   "execution_count": 59,
   "metadata": {},
   "outputs": [],
   "source": [
    "url = 'https://www.treasury.gov/resource-center/data-chart-center/interest-rates/pages/TextView.aspx?data=yieldYear&year=2020'"
   ]
  },
  {
   "cell_type": "code",
   "execution_count": 60,
   "metadata": {},
   "outputs": [],
   "source": [
    "r_data = urllib.request.urlopen(url)"
   ]
  },
  {
   "cell_type": "code",
   "execution_count": 61,
   "metadata": {},
   "outputs": [],
   "source": [
    "html_data = r_data.read().decode('utf-8')\n",
    "html_data = BeautifulSoup(html_data, 'html')"
   ]
  },
  {
   "cell_type": "code",
   "execution_count": 62,
   "metadata": {},
   "outputs": [],
   "source": [
    "table = html_data.find('table',{'class':'t-chart'})\n",
    "table_rows = table.find_all('tr')"
   ]
  },
  {
   "cell_type": "code",
   "execution_count": 63,
   "metadata": {},
   "outputs": [],
   "source": [
    "def table_data():\n",
    "    table = html_data.find('table',{'class':'t-chart'})\n",
    "    table_rows = table.find_all('tr')\n",
    "    list = []\n",
    "    col = ['date','1mo','2mo','3mo','6mo','1yr','2yr','3yr','5yr','7yr','10yr','20yr','30yr']\n",
    "    for tr in table_rows:\n",
    "        td = tr.find_all('td')\n",
    "        row = [i.text for i in td]\n",
    "        list.append(row)\n",
    "    df = pd.DataFrame(list,columns=col)\n",
    "    df['date'] = df['date'].astype('datetime64[ns]')\n",
    "    df = df.drop(0)\n",
    "    for i in df:\n",
    "        if df[i].dtypes == 'object':\n",
    "            df[i] = df[i].astype('float')\n",
    "    return df"
   ]
  },
  {
   "cell_type": "code",
   "execution_count": 64,
   "metadata": {},
   "outputs": [],
   "source": [
    "def plot_curve():\n",
    "    #x = datetime.datetime.today()\n",
    "    #x = str(x.date())\n",
    "    df = table_data()\n",
    "    y = str(df['date'][len(df)])\n",
    "    df2 = df.drop(columns='date')\n",
    "    data = df2.iloc[len(df2)-1]\n",
    "    plot = data.plot()\n",
    "    plot.legend(['Yeild Curve as of: ' + y ])\n",
    "    plt.grid(True)\n",
    "    plt.yscale('linear')\n",
    "    plt.gca()\n",
    "    plt.show()"
   ]
  },
  {
   "cell_type": "code",
   "execution_count": 71,
   "metadata": {},
   "outputs": [],
   "source": [
    "df = table_data()"
   ]
  },
  {
   "cell_type": "code",
   "execution_count": 73,
   "metadata": {},
   "outputs": [
    {
     "data": {
      "text/html": [
       "<div>\n",
       "<style scoped>\n",
       "    .dataframe tbody tr th:only-of-type {\n",
       "        vertical-align: middle;\n",
       "    }\n",
       "\n",
       "    .dataframe tbody tr th {\n",
       "        vertical-align: top;\n",
       "    }\n",
       "\n",
       "    .dataframe thead th {\n",
       "        text-align: right;\n",
       "    }\n",
       "</style>\n",
       "<table border=\"1\" class=\"dataframe\">\n",
       "  <thead>\n",
       "    <tr style=\"text-align: right;\">\n",
       "      <th></th>\n",
       "      <th>date</th>\n",
       "      <th>1mo</th>\n",
       "      <th>2mo</th>\n",
       "      <th>3mo</th>\n",
       "      <th>6mo</th>\n",
       "      <th>1yr</th>\n",
       "      <th>2yr</th>\n",
       "      <th>3yr</th>\n",
       "      <th>5yr</th>\n",
       "      <th>7yr</th>\n",
       "      <th>10yr</th>\n",
       "      <th>20yr</th>\n",
       "      <th>30yr</th>\n",
       "    </tr>\n",
       "  </thead>\n",
       "  <tbody>\n",
       "    <tr>\n",
       "      <th>1</th>\n",
       "      <td>2020-01-02</td>\n",
       "      <td>1.53</td>\n",
       "      <td>1.55</td>\n",
       "      <td>1.54</td>\n",
       "      <td>1.57</td>\n",
       "      <td>1.56</td>\n",
       "      <td>1.58</td>\n",
       "      <td>1.59</td>\n",
       "      <td>1.67</td>\n",
       "      <td>1.79</td>\n",
       "      <td>1.88</td>\n",
       "      <td>2.19</td>\n",
       "      <td>2.33</td>\n",
       "    </tr>\n",
       "    <tr>\n",
       "      <th>2</th>\n",
       "      <td>2020-01-03</td>\n",
       "      <td>1.52</td>\n",
       "      <td>1.55</td>\n",
       "      <td>1.52</td>\n",
       "      <td>1.55</td>\n",
       "      <td>1.55</td>\n",
       "      <td>1.53</td>\n",
       "      <td>1.54</td>\n",
       "      <td>1.59</td>\n",
       "      <td>1.71</td>\n",
       "      <td>1.80</td>\n",
       "      <td>2.11</td>\n",
       "      <td>2.26</td>\n",
       "    </tr>\n",
       "    <tr>\n",
       "      <th>3</th>\n",
       "      <td>2020-01-06</td>\n",
       "      <td>1.54</td>\n",
       "      <td>1.54</td>\n",
       "      <td>1.56</td>\n",
       "      <td>1.56</td>\n",
       "      <td>1.54</td>\n",
       "      <td>1.54</td>\n",
       "      <td>1.56</td>\n",
       "      <td>1.61</td>\n",
       "      <td>1.72</td>\n",
       "      <td>1.81</td>\n",
       "      <td>2.13</td>\n",
       "      <td>2.28</td>\n",
       "    </tr>\n",
       "    <tr>\n",
       "      <th>4</th>\n",
       "      <td>2020-01-07</td>\n",
       "      <td>1.52</td>\n",
       "      <td>1.53</td>\n",
       "      <td>1.54</td>\n",
       "      <td>1.56</td>\n",
       "      <td>1.53</td>\n",
       "      <td>1.54</td>\n",
       "      <td>1.55</td>\n",
       "      <td>1.62</td>\n",
       "      <td>1.74</td>\n",
       "      <td>1.83</td>\n",
       "      <td>2.16</td>\n",
       "      <td>2.31</td>\n",
       "    </tr>\n",
       "    <tr>\n",
       "      <th>5</th>\n",
       "      <td>2020-01-08</td>\n",
       "      <td>1.50</td>\n",
       "      <td>1.53</td>\n",
       "      <td>1.54</td>\n",
       "      <td>1.56</td>\n",
       "      <td>1.55</td>\n",
       "      <td>1.58</td>\n",
       "      <td>1.61</td>\n",
       "      <td>1.67</td>\n",
       "      <td>1.78</td>\n",
       "      <td>1.87</td>\n",
       "      <td>2.21</td>\n",
       "      <td>2.35</td>\n",
       "    </tr>\n",
       "  </tbody>\n",
       "</table>\n",
       "</div>"
      ],
      "text/plain": [
       "        date   1mo   2mo   3mo   6mo   1yr   2yr   3yr   5yr   7yr  10yr  \\\n",
       "1 2020-01-02  1.53  1.55  1.54  1.57  1.56  1.58  1.59  1.67  1.79  1.88   \n",
       "2 2020-01-03  1.52  1.55  1.52  1.55  1.55  1.53  1.54  1.59  1.71  1.80   \n",
       "3 2020-01-06  1.54  1.54  1.56  1.56  1.54  1.54  1.56  1.61  1.72  1.81   \n",
       "4 2020-01-07  1.52  1.53  1.54  1.56  1.53  1.54  1.55  1.62  1.74  1.83   \n",
       "5 2020-01-08  1.50  1.53  1.54  1.56  1.55  1.58  1.61  1.67  1.78  1.87   \n",
       "\n",
       "   20yr  30yr  \n",
       "1  2.19  2.33  \n",
       "2  2.11  2.26  \n",
       "3  2.13  2.28  \n",
       "4  2.16  2.31  \n",
       "5  2.21  2.35  "
      ]
     },
     "execution_count": 73,
     "metadata": {},
     "output_type": "execute_result"
    }
   ],
   "source": [
    "df.head()"
   ]
  },
  {
   "cell_type": "code",
   "execution_count": 74,
   "metadata": {},
   "outputs": [
    {
     "data": {
      "text/html": [
       "<div>\n",
       "<style scoped>\n",
       "    .dataframe tbody tr th:only-of-type {\n",
       "        vertical-align: middle;\n",
       "    }\n",
       "\n",
       "    .dataframe tbody tr th {\n",
       "        vertical-align: top;\n",
       "    }\n",
       "\n",
       "    .dataframe thead th {\n",
       "        text-align: right;\n",
       "    }\n",
       "</style>\n",
       "<table border=\"1\" class=\"dataframe\">\n",
       "  <thead>\n",
       "    <tr style=\"text-align: right;\">\n",
       "      <th></th>\n",
       "      <th>1mo</th>\n",
       "      <th>2mo</th>\n",
       "      <th>3mo</th>\n",
       "      <th>6mo</th>\n",
       "      <th>1yr</th>\n",
       "      <th>2yr</th>\n",
       "      <th>3yr</th>\n",
       "      <th>5yr</th>\n",
       "      <th>7yr</th>\n",
       "      <th>10yr</th>\n",
       "      <th>20yr</th>\n",
       "      <th>30yr</th>\n",
       "    </tr>\n",
       "  </thead>\n",
       "  <tbody>\n",
       "    <tr>\n",
       "      <th>count</th>\n",
       "      <td>63.000000</td>\n",
       "      <td>63.000000</td>\n",
       "      <td>63.000000</td>\n",
       "      <td>63.000000</td>\n",
       "      <td>63.000000</td>\n",
       "      <td>63.000000</td>\n",
       "      <td>63.000000</td>\n",
       "      <td>63.000000</td>\n",
       "      <td>63.000000</td>\n",
       "      <td>63.000000</td>\n",
       "      <td>63.000000</td>\n",
       "      <td>63.000000</td>\n",
       "    </tr>\n",
       "    <tr>\n",
       "      <th>mean</th>\n",
       "      <td>1.116349</td>\n",
       "      <td>1.113333</td>\n",
       "      <td>1.087937</td>\n",
       "      <td>1.082381</td>\n",
       "      <td>1.053333</td>\n",
       "      <td>1.067937</td>\n",
       "      <td>1.080476</td>\n",
       "      <td>1.132540</td>\n",
       "      <td>1.266349</td>\n",
       "      <td>1.353175</td>\n",
       "      <td>1.689524</td>\n",
       "      <td>1.861270</td>\n",
       "    </tr>\n",
       "    <tr>\n",
       "      <th>std</th>\n",
       "      <td>0.634780</td>\n",
       "      <td>0.636827</td>\n",
       "      <td>0.642144</td>\n",
       "      <td>0.628441</td>\n",
       "      <td>0.577240</td>\n",
       "      <td>0.504640</td>\n",
       "      <td>0.475494</td>\n",
       "      <td>0.451535</td>\n",
       "      <td>0.416325</td>\n",
       "      <td>0.415280</td>\n",
       "      <td>0.382894</td>\n",
       "      <td>0.364194</td>\n",
       "    </tr>\n",
       "    <tr>\n",
       "      <th>min</th>\n",
       "      <td>0.000000</td>\n",
       "      <td>0.000000</td>\n",
       "      <td>0.000000</td>\n",
       "      <td>0.020000</td>\n",
       "      <td>0.110000</td>\n",
       "      <td>0.230000</td>\n",
       "      <td>0.280000</td>\n",
       "      <td>0.370000</td>\n",
       "      <td>0.510000</td>\n",
       "      <td>0.540000</td>\n",
       "      <td>0.870000</td>\n",
       "      <td>0.990000</td>\n",
       "    </tr>\n",
       "    <tr>\n",
       "      <th>25%</th>\n",
       "      <td>0.495000</td>\n",
       "      <td>0.470000</td>\n",
       "      <td>0.375000</td>\n",
       "      <td>0.390000</td>\n",
       "      <td>0.390000</td>\n",
       "      <td>0.500000</td>\n",
       "      <td>0.580000</td>\n",
       "      <td>0.660000</td>\n",
       "      <td>0.855000</td>\n",
       "      <td>0.930000</td>\n",
       "      <td>1.345000</td>\n",
       "      <td>1.560000</td>\n",
       "    </tr>\n",
       "    <tr>\n",
       "      <th>50%</th>\n",
       "      <td>1.530000</td>\n",
       "      <td>1.550000</td>\n",
       "      <td>1.540000</td>\n",
       "      <td>1.550000</td>\n",
       "      <td>1.460000</td>\n",
       "      <td>1.370000</td>\n",
       "      <td>1.350000</td>\n",
       "      <td>1.370000</td>\n",
       "      <td>1.450000</td>\n",
       "      <td>1.540000</td>\n",
       "      <td>1.840000</td>\n",
       "      <td>2.000000</td>\n",
       "    </tr>\n",
       "    <tr>\n",
       "      <th>75%</th>\n",
       "      <td>1.560000</td>\n",
       "      <td>1.570000</td>\n",
       "      <td>1.570000</td>\n",
       "      <td>1.560000</td>\n",
       "      <td>1.530000</td>\n",
       "      <td>1.470000</td>\n",
       "      <td>1.465000</td>\n",
       "      <td>1.490000</td>\n",
       "      <td>1.590000</td>\n",
       "      <td>1.680000</td>\n",
       "      <td>1.985000</td>\n",
       "      <td>2.140000</td>\n",
       "    </tr>\n",
       "    <tr>\n",
       "      <th>max</th>\n",
       "      <td>1.610000</td>\n",
       "      <td>1.610000</td>\n",
       "      <td>1.590000</td>\n",
       "      <td>1.580000</td>\n",
       "      <td>1.560000</td>\n",
       "      <td>1.580000</td>\n",
       "      <td>1.610000</td>\n",
       "      <td>1.670000</td>\n",
       "      <td>1.790000</td>\n",
       "      <td>1.880000</td>\n",
       "      <td>2.210000</td>\n",
       "      <td>2.380000</td>\n",
       "    </tr>\n",
       "  </tbody>\n",
       "</table>\n",
       "</div>"
      ],
      "text/plain": [
       "             1mo        2mo        3mo        6mo        1yr        2yr  \\\n",
       "count  63.000000  63.000000  63.000000  63.000000  63.000000  63.000000   \n",
       "mean    1.116349   1.113333   1.087937   1.082381   1.053333   1.067937   \n",
       "std     0.634780   0.636827   0.642144   0.628441   0.577240   0.504640   \n",
       "min     0.000000   0.000000   0.000000   0.020000   0.110000   0.230000   \n",
       "25%     0.495000   0.470000   0.375000   0.390000   0.390000   0.500000   \n",
       "50%     1.530000   1.550000   1.540000   1.550000   1.460000   1.370000   \n",
       "75%     1.560000   1.570000   1.570000   1.560000   1.530000   1.470000   \n",
       "max     1.610000   1.610000   1.590000   1.580000   1.560000   1.580000   \n",
       "\n",
       "             3yr        5yr        7yr       10yr       20yr       30yr  \n",
       "count  63.000000  63.000000  63.000000  63.000000  63.000000  63.000000  \n",
       "mean    1.080476   1.132540   1.266349   1.353175   1.689524   1.861270  \n",
       "std     0.475494   0.451535   0.416325   0.415280   0.382894   0.364194  \n",
       "min     0.280000   0.370000   0.510000   0.540000   0.870000   0.990000  \n",
       "25%     0.580000   0.660000   0.855000   0.930000   1.345000   1.560000  \n",
       "50%     1.350000   1.370000   1.450000   1.540000   1.840000   2.000000  \n",
       "75%     1.465000   1.490000   1.590000   1.680000   1.985000   2.140000  \n",
       "max     1.610000   1.670000   1.790000   1.880000   2.210000   2.380000  "
      ]
     },
     "execution_count": 74,
     "metadata": {},
     "output_type": "execute_result"
    }
   ],
   "source": [
    "df.describe()"
   ]
  },
  {
   "cell_type": "code",
   "execution_count": 65,
   "metadata": {},
   "outputs": [
    {
     "data": {
      "image/png": "[encoded data removed]",
      "text/plain": [
       "<Figure size 432x288 with 1 Axes>"
      ]
     },
     "metadata": {
      "needs_background": "light"
     },
     "output_type": "display_data"
    }
   ],
   "source": [
    "plot_curve()"
   ]
  },
  {
   "cell_type": "code",
   "execution_count": 66,
   "metadata": {},
   "outputs": [],
   "source": [
    "def plot_tennor(x):\n",
    "    '''\n",
    "    possible values for x:\n",
    "    '1mo','2mo','3mo','6mo','1yr','2yr','3yr','5yr','7yr','10yr','20yr','30yr'\n",
    "    '''\n",
    "    df = table_data()\n",
    "    y = str(df['date'][len(df)])\n",
    "    df2 = df.drop(columns='date')\n",
    "    data = df2[x]\n",
    "    plot = data.plot()\n",
    "    plot.legend(['Chart for ' + x + y ])\n",
    "    plt.grid(True)\n",
    "    plt.yscale('linear')\n",
    "    plt.gca()\n",
    "    plt.show()"
   ]
  },
  {
   "cell_type": "code",
   "execution_count": 67,
   "metadata": {},
   "outputs": [
    {
     "data": {
      "image/png": "[encoded data removed]",
      "text/plain": [
       "<Figure size 432x288 with 1 Axes>"
      ]
     },
     "metadata": {
      "needs_background": "light"
     },
     "output_type": "display_data"
    }
   ],
   "source": [
    "plot_tennor('10yr')"
   ]
  },
  {
   "cell_type": "code",
   "execution_count": 69,
   "metadata": {},
   "outputs": [
    {
     "data": {
      "image/png": "[encoded data removed]",
      "text/plain": [
       "<Figure size 432x288 with 1 Axes>"
      ]
     },
     "metadata": {
      "needs_background": "light"
     },
     "output_type": "display_data"
    }
   ],
   "source": [
    "plot_tennor('20yr')"
   ]
  }
 ],
 "metadata": {
  "kernelspec": {
   "display_name": "Python 3",
   "language": "python",
   "name": "python3"
  },
  "language_info": {
   "codemirror_mode": {
    "name": "ipython",
    "version": 3
   },
   "file_extension": ".py",
   "mimetype": "text/x-python",
   "name": "python",
   "nbconvert_exporter": "python",
   "pygments_lexer": "ipython3",
   "version": "3.8.0"
  }
 },
 "nbformat": 4,
 "nbformat_minor": 4
}
